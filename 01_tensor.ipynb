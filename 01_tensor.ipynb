{
 "cells": [
  {
   "cell_type": "markdown",
   "metadata": {},
   "source": [
    "## 01.텐서 초괴화\n",
    "- 초기화:텐서에서 특정 값을 채워서 생성하는 것\n"
   ]
  },
  {
   "cell_type": "code",
   "execution_count": 3,
   "metadata": {},
   "outputs": [
    {
     "data": {
      "text/plain": [
       "'2.5.1'"
      ]
     },
     "execution_count": 3,
     "metadata": {},
     "output_type": "execute_result"
    }
   ],
   "source": [
    "import torch\n",
    "import numpy as np\n",
    "\n",
    "torch.__version__"
   ]
  },
  {
   "cell_type": "markdown",
   "metadata": {},
   "source": [
    "### 1-1.초기화 되지 않은 tenosr\n",
    "- 특정 값이 채워지지 않은 사태로 생성하는 것"
   ]
  },
  {
   "cell_type": "code",
   "execution_count": 12,
   "metadata": {},
   "outputs": [
    {
     "name": "stdout",
     "output_type": "stream",
     "text": [
      "tensor([[0., 0.],\n",
      "        [0., 0.],\n",
      "        [0., 0.],\n",
      "        [0., 0.]])\n"
     ]
    }
   ],
   "source": [
    "tensor = torch.empty(4,2)\n",
    "print(tensor)"
   ]
  },
  {
   "cell_type": "markdown",
   "metadata": {},
   "source": [
    "### 1-2 상수로 초기화된 tenosr\n",
    "- 'torch.zeros()'\n",
    "- 'torch.ones'"
   ]
  },
  {
   "cell_type": "code",
   "execution_count": 14,
   "metadata": {},
   "outputs": [
    {
     "name": "stdout",
     "output_type": "stream",
     "text": [
      "tensor([[1, 1, 1, 1],\n",
      "        [1, 1, 1, 1],\n",
      "        [1, 1, 1, 1]])\n",
      "tensor([[0., 0.],\n",
      "        [0., 0.]])\n"
     ]
    }
   ],
   "source": [
    "a = torch.ones(3,4,dtype=torch.long)#dtype = 데이터 타입 지정\n",
    "b = torch.zeros(2,2)\n",
    "print(a)\n",
    "print(b)"
   ]
  },
  {
   "cell_type": "markdown",
   "metadata": {},
   "source": [
    "### 1-3. 무작위로 초괴화된 tenosr\n",
    "- torch.rand: 0~1 사이값으로 무작위 초괴화\n",
    "- torcg.randn: 표준정규분포에서 무작위로 초괴화"
   ]
  },
  {
   "cell_type": "code",
   "execution_count": 15,
   "metadata": {},
   "outputs": [
    {
     "name": "stdout",
     "output_type": "stream",
     "text": [
      "tensor([[0.4315, 0.2008, 0.0075],\n",
      "        [0.6045, 0.9040, 0.0157],\n",
      "        [0.2349, 0.8798, 0.6349]]) tensor([[-1.5358,  1.6082, -1.1976],\n",
      "        [ 0.8418,  0.1596, -1.2320],\n",
      "        [-0.4709, -0.9995, -0.8262]])\n"
     ]
    }
   ],
   "source": [
    "a = torch.rand(3,3)\n",
    "b = torch.randn(3,3)\n",
    "print(a,b)"
   ]
  },
  {
   "cell_type": "markdown",
   "metadata": {},
   "source": [
    "### 1-4 직접 입력한 값으로 초기화"
   ]
  },
  {
   "cell_type": "code",
   "execution_count": 16,
   "metadata": {},
   "outputs": [
    {
     "data": {
      "text/plain": [
       "tensor([1.0000, 2.3000])"
      ]
     },
     "execution_count": 16,
     "metadata": {},
     "output_type": "execute_result"
    }
   ],
   "source": [
    "a = torch.tensor([1,2.3])\n",
    "a"
   ]
  },
  {
   "cell_type": "markdown",
   "metadata": {},
   "source": [
    "### 1-5 Numpy 배열로부터 초괴화"
   ]
  },
  {
   "cell_type": "code",
   "execution_count": 26,
   "metadata": {},
   "outputs": [
    {
     "data": {
      "text/plain": [
       "numpy.ndarray"
      ]
     },
     "execution_count": 26,
     "metadata": {},
     "output_type": "execute_result"
    }
   ],
   "source": [
    "nd_arr = np.array([1,2,3])\n",
    "a = torch.from_numpy(nd_arr)\n",
    "\n",
    "b = torch.tensor([1,2.3])\n",
    "new_nd = b.numpy()\n",
    "type(new_nd)"
   ]
  },
  {
   "cell_type": "markdown",
   "metadata": {},
   "source": [
    "### 1-6 특정 텐서와 같은 타입, 무작위로 값을 채움"
   ]
  },
  {
   "cell_type": "code",
   "execution_count": 22,
   "metadata": {},
   "outputs": [
    {
     "data": {
      "text/plain": [
       "tensor([[-2.6619,  1.0947,  0.2391,  0.0781],\n",
       "        [ 0.4917,  0.7260,  0.3619,  1.0362],\n",
       "        [ 0.0083, -1.5964, -0.2925, -0.5400]])"
      ]
     },
     "execution_count": 22,
     "metadata": {},
     "output_type": "execute_result"
    }
   ],
   "source": [
    "a = torch.ones(3,4,dtype=torch.long)\n",
    "b =torch.randn_like(a,dtype=torch.float)\n",
    "b"
   ]
  },
  {
   "cell_type": "markdown",
   "metadata": {},
   "source": [
    "## 1-7 텐서의 속성"
   ]
  },
  {
   "cell_type": "code",
   "execution_count": 29,
   "metadata": {},
   "outputs": [
    {
     "name": "stdout",
     "output_type": "stream",
     "text": [
      "torch.Size([3, 4])\n",
      "torch.Size([3, 4])\n",
      "torch.float32\n",
      "cpu\n"
     ]
    }
   ],
   "source": [
    "tensor = torch.empty(3,4)\n",
    "print(tensor.size()) #사이즈\n",
    "print(tensor.shape) #사이즈\n",
    "print(tensor.dtype) #데이터 타입\n",
    "print(tensor.device)"
   ]
  },
  {
   "cell_type": "markdown",
   "metadata": {},
   "source": [
    "### 1-8. 특정 타입의 텐서 생성"
   ]
  },
  {
   "cell_type": "code",
   "execution_count": 33,
   "metadata": {},
   "outputs": [
    {
     "name": "stdout",
     "output_type": "stream",
     "text": [
      "tensor([1., 2., 3.])\n",
      "torch.float32\n",
      "tensor([1, 2, 3], dtype=torch.int32)\n",
      "torch.int32\n"
     ]
    },
    {
     "data": {
      "text/plain": [
       "torch.float64"
      ]
     },
     "execution_count": 33,
     "metadata": {},
     "output_type": "execute_result"
    }
   ],
   "source": [
    "tensor = torch.rand(3,4,dtype=torch.float64)\n",
    "float_tensor = torch.FloatTensor([1,2,3])\n",
    "print(float_tensor)\n",
    "print(float_tensor.dtype)\n",
    "\n",
    "int_tensor = torch.IntTensor([1.1,2.3,3.4])\n",
    "print(int_tensor)\n",
    "print(int_tensor.dtype)\n",
    "\n",
    "tensor.dtype\n"
   ]
  },
  {
   "cell_type": "markdown",
   "metadata": {},
   "source": [
    "### 1-9. 데이터 타입 캐스팅"
   ]
  },
  {
   "cell_type": "code",
   "execution_count": 34,
   "metadata": {},
   "outputs": [
    {
     "name": "stdout",
     "output_type": "stream",
     "text": [
      "tensor([1, 2, 3], dtype=torch.int32)\n",
      "tensor([1., 2., 3.])\n"
     ]
    }
   ],
   "source": [
    "float_tensor = torch.FloatTensor([1,2,3])\n",
    "print(float_tensor.int())\n",
    "int_tensor = torch.IntTensor([1,2,3])\n",
    "print(int_tensor.float())\n"
   ]
  },
  {
   "cell_type": "markdown",
   "metadata": {},
   "source": [
    "### 1-10 CUDA Tensor"
   ]
  },
  {
   "cell_type": "code",
   "execution_count": 37,
   "metadata": {},
   "outputs": [
    {
     "data": {
      "text/plain": [
       "device(type='cpu')"
      ]
     },
     "execution_count": 37,
     "metadata": {},
     "output_type": "execute_result"
    }
   ],
   "source": [
    "tensor = torch.rand(3,4,dtype=torch.float64)\n",
    "device = torch.device(\"cuda\" if torch.cuda.is_available() else \"cpu\")\n",
    "tensor = tensor.to(device)\n",
    "tensor.device\n"
   ]
  },
  {
   "cell_type": "markdown",
   "metadata": {},
   "source": [
    "### 1-11. 다차원 텐서 표현"
   ]
  },
  {
   "cell_type": "markdown",
   "metadata": {},
   "source": [
    "1-11-1. 0D Tensor(Scalar)\n",
    "- 하나의 값을 담고 있는 텐서"
   ]
  },
  {
   "cell_type": "code",
   "execution_count": 41,
   "metadata": {},
   "outputs": [
    {
     "name": "stdout",
     "output_type": "stream",
     "text": [
      "0\n",
      "torch.Size([])\n",
      "tensor(100)\n"
     ]
    }
   ],
   "source": [
    "t0 = torch.tensor(100)\n",
    "print(t0.ndim)\n",
    "print(t0.shape)\n",
    "print(t0)"
   ]
  },
  {
   "cell_type": "markdown",
   "metadata": {},
   "source": [
    "#### 1-11-2 1D Tensor(vector)\n",
    "- 값들을 저장하고 있는 리스트와 유사한 텐서"
   ]
  },
  {
   "cell_type": "code",
   "execution_count": 42,
   "metadata": {},
   "outputs": [
    {
     "name": "stdout",
     "output_type": "stream",
     "text": [
      "1\n",
      "torch.Size([3])\n",
      "tensor([1, 2, 3])\n"
     ]
    }
   ],
   "source": [
    "t1 = torch.tensor([1,2,3])\n",
    "print(t1.ndim)\n",
    "print(t1.shape)\n",
    "print(t1)"
   ]
  },
  {
   "cell_type": "markdown",
   "metadata": {},
   "source": [
    "#### 1-11-3 2D Tensor(metrix)\n",
    "- 행렬과 같은 모양으로 두개의 축이 존재"
   ]
  },
  {
   "cell_type": "code",
   "execution_count": 43,
   "metadata": {},
   "outputs": [
    {
     "name": "stdout",
     "output_type": "stream",
     "text": [
      "2\n",
      "torch.Size([2, 3])\n",
      "tensor([[1, 2, 3],\n",
      "        [1, 2, 3]])\n"
     ]
    }
   ],
   "source": [
    "t2 = torch.tensor([[1,2,3],[1,2,3]])\n",
    "print(t2.ndim)\n",
    "print(t2.shape)\n",
    "print(t2)"
   ]
  },
  {
   "cell_type": "markdown",
   "metadata": {},
   "source": [
    "#### 1-11-4 3D Tensor(Cude)\n",
    "- 큐브와 같은 현태로 세개의 축이 존재"
   ]
  },
  {
   "cell_type": "code",
   "execution_count": 47,
   "metadata": {},
   "outputs": [
    {
     "ename": "SyntaxError",
     "evalue": "invalid syntax (454959162.py, line 2)",
     "output_type": "error",
     "traceback": [
      "\u001b[1;36m  Cell \u001b[1;32mIn[47], line 2\u001b[1;36m\u001b[0m\n\u001b[1;33m    [1,,3],[4,,6],[7,,9]],\u001b[0m\n\u001b[1;37m       ^\u001b[0m\n\u001b[1;31mSyntaxError\u001b[0m\u001b[1;31m:\u001b[0m invalid syntax\n"
     ]
    }
   ],
   "source": [
    "t3 = torch.tensor([[[1,2,3],[4,5,6],[7,8,9]]])\n",
    "print(t3.ndim)\n",
    "print(t3.shape)\n",
    "print(t3)"
   ]
  },
  {
   "cell_type": "markdown",
   "metadata": {},
   "source": [
    "#### 1-11-5 4D Tensor(Cude)"
   ]
  },
  {
   "cell_type": "code",
   "execution_count": 50,
   "metadata": {},
   "outputs": [
    {
     "name": "stdout",
     "output_type": "stream",
     "text": [
      "4\n",
      "torch.Size([2, 3, 4, 5])\n",
      "tensor([[[[0.5549, 0.4595, 0.9804, 0.3715, 0.4011],\n",
      "          [0.9136, 0.2797, 0.5277, 0.3918, 0.6454],\n",
      "          [0.9028, 0.3532, 0.6024, 0.5634, 0.0565],\n",
      "          [0.7736, 0.2720, 0.0544, 0.1757, 0.6139]],\n",
      "\n",
      "         [[0.5409, 0.2736, 0.9822, 0.8134, 0.4178],\n",
      "          [0.2876, 0.2981, 0.6449, 0.9155, 0.1861],\n",
      "          [0.6819, 0.2004, 0.3585, 0.6177, 0.6519],\n",
      "          [0.6811, 0.2692, 0.0044, 0.1648, 0.6435]],\n",
      "\n",
      "         [[0.5956, 0.4565, 0.5794, 0.7166, 0.9540],\n",
      "          [0.2094, 0.7941, 0.4897, 0.8409, 0.9112],\n",
      "          [0.7881, 0.2693, 0.4573, 0.2550, 0.1263],\n",
      "          [0.8984, 0.6322, 0.7776, 0.4465, 0.8664]]],\n",
      "\n",
      "\n",
      "        [[[0.2500, 0.6683, 0.0273, 0.0805, 0.6417],\n",
      "          [0.7182, 0.9771, 0.5369, 0.3047, 0.1094],\n",
      "          [0.4723, 0.0437, 0.9979, 0.3269, 0.3519],\n",
      "          [0.7928, 0.4740, 0.3651, 0.3695, 0.0748]],\n",
      "\n",
      "         [[0.2314, 0.8313, 0.2493, 0.8462, 0.3952],\n",
      "          [0.9088, 0.9411, 0.2869, 0.9771, 0.6164],\n",
      "          [0.2722, 0.9815, 0.2890, 0.7330, 0.3007],\n",
      "          [0.2051, 0.7610, 0.0505, 0.6637, 0.6816]],\n",
      "\n",
      "         [[0.8319, 0.8679, 0.8000, 0.7444, 0.7165],\n",
      "          [0.8661, 0.5616, 0.1464, 0.5743, 0.0168],\n",
      "          [0.6677, 0.1906, 0.4103, 0.1021, 0.5567],\n",
      "          [0.4882, 0.5839, 0.5828, 0.6960, 0.9264]]]])\n"
     ]
    }
   ],
   "source": [
    "t4 = torch.rand(2,3,4,5)\n",
    "print(t4.ndim)\n",
    "print(t4.shape)\n",
    "print(t4)"
   ]
  }
 ],
 "metadata": {
  "kernelspec": {
   "display_name": "PYTORCH-ENV",
   "language": "python",
   "name": "python3"
  },
  "language_info": {
   "codemirror_mode": {
    "name": "ipython",
    "version": 3
   },
   "file_extension": ".py",
   "mimetype": "text/x-python",
   "name": "python",
   "nbconvert_exporter": "python",
   "pygments_lexer": "ipython3",
   "version": "3.12.8"
  }
 },
 "nbformat": 4,
 "nbformat_minor": 2
}
