{
 "cells": [
  {
   "cell_type": "markdown",
   "metadata": {},
   "source": [
    "## 02. 텐서의 연산"
   ]
  },
  {
   "cell_type": "code",
   "execution_count": 1,
   "metadata": {},
   "outputs": [],
   "source": [
    "import torch"
   ]
  },
  {
   "cell_type": "markdown",
   "metadata": {},
   "source": [
    "### 2-1. 산술연산"
   ]
  },
  {
   "cell_type": "code",
   "execution_count": 6,
   "metadata": {},
   "outputs": [
    {
     "name": "stdout",
     "output_type": "stream",
     "text": [
      "tensor([[0.0636, 0.0464],\n",
      "        [0.0568, 0.4883]])\n",
      "tensor([[1.0636, 1.0464],\n",
      "        [1.0568, 1.4883]])\n",
      "tensor([[2.1272, 2.0927],\n",
      "        [2.1136, 2.9765]])\n"
     ]
    }
   ],
   "source": [
    "tensor = torch.rand(2,2)\n",
    "print(tensor)\n",
    "\n",
    "tensor = tensor + 1\n",
    "print(tensor)\n",
    "\n",
    "tensor = tensor * 2\n",
    "print(tensor)"
   ]
  },
  {
   "cell_type": "code",
   "execution_count": 13,
   "metadata": {},
   "outputs": [
    {
     "name": "stdout",
     "output_type": "stream",
     "text": [
      "tensor([[0.7039, 0.7527],\n",
      "        [0.7633, 0.4537]]) tensor([[0.3812, 0.5877],\n",
      "        [0.2888, 0.0544]])\n",
      "tensor([[1.0851, 1.3404],\n",
      "        [1.0522, 0.5081]])\n",
      "tensor([[1.0851, 1.3404],\n",
      "        [1.0522, 0.5081]])\n",
      "tensor([[1.0851, 1.3404],\n",
      "        [1.0522, 0.5081]])\n",
      "tensor([[1.0851, 1.3404],\n",
      "        [1.0522, 0.5081]])\n"
     ]
    }
   ],
   "source": [
    "x = torch.rand(2,2)\n",
    "y = torch.rand(2,2)\n",
    "#더하기\n",
    "add = torch.add(x,y)\n",
    "print(x,y)\n",
    "print(add)\n",
    "print(x+y)\n",
    "\n",
    "# in_place 바꿔치기 연산\n",
    "add =torch.add(x,y)\n",
    "print(add)\n",
    "y.add_(x)\n",
    "print(y)"
   ]
  },
  {
   "cell_type": "code",
   "execution_count": 14,
   "metadata": {},
   "outputs": [
    {
     "name": "stdout",
     "output_type": "stream",
     "text": [
      "tensor([[-0.6477, -0.5657],\n",
      "        [-0.4141, -0.7675]])\n",
      "tensor([[-0.6477, -0.5657],\n",
      "        [-0.4141, -0.7675]])\n"
     ]
    }
   ],
   "source": [
    "# 빼기\n",
    "x = torch.rand(2,2)\n",
    "y = torch.rand(2,2)\n",
    "sub = torch.sub(x,y)\n",
    "print(x-y)\n",
    "print(sub)"
   ]
  },
  {
   "cell_type": "code",
   "execution_count": 15,
   "metadata": {},
   "outputs": [
    {
     "name": "stdout",
     "output_type": "stream",
     "text": [
      "tensor([[0.7626, 0.1801],\n",
      "        [0.0643, 0.2340]])\n",
      "tensor([[0.7626, 0.1801],\n",
      "        [0.0643, 0.2340]])\n"
     ]
    }
   ],
   "source": [
    "#곱하기\n",
    "# 빼기\n",
    "x = torch.rand(2,2)\n",
    "y = torch.rand(2,2)\n",
    "mul = torch.mul(x,y)\n",
    "print(x*y)\n",
    "print(mul)"
   ]
  },
  {
   "cell_type": "code",
   "execution_count": 17,
   "metadata": {},
   "outputs": [
    {
     "name": "stdout",
     "output_type": "stream",
     "text": [
      "tensor([[ 1.6007,  0.2933],\n",
      "        [14.6987,  0.9169]])\n",
      "tensor([[ 1.6007,  0.2933],\n",
      "        [14.6987,  0.9169]])\n"
     ]
    }
   ],
   "source": [
    "#나누기\n",
    "x = torch.rand(2,2)\n",
    "y = torch.rand(2,2)\n",
    "div= torch.div(x,y)\n",
    "print(x/y)\n",
    "print(div)"
   ]
  }
 ],
 "metadata": {
  "kernelspec": {
   "display_name": "PYTORCH-ENV",
   "language": "python",
   "name": "python3"
  },
  "language_info": {
   "codemirror_mode": {
    "name": "ipython",
    "version": 3
   },
   "file_extension": ".py",
   "mimetype": "text/x-python",
   "name": "python",
   "nbconvert_exporter": "python",
   "pygments_lexer": "ipython3",
   "version": "3.12.8"
  }
 },
 "nbformat": 4,
 "nbformat_minor": 2
}
